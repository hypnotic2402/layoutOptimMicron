{
 "cells": [
  {
   "cell_type": "code",
   "execution_count": 2,
   "metadata": {},
   "outputs": [
    {
     "name": "stderr",
     "output_type": "stream",
     "text": [
      "/home/iiitb_micron/anaconda3/envs/maskplace_gnn/lib/python3.9/site-packages/tqdm/auto.py:21: TqdmWarning: IProgress not found. Please update jupyter and ipywidgets. See https://ipywidgets.readthedocs.io/en/stable/user_install.html\n",
      "  from .autonotebook import tqdm as notebook_tqdm\n"
     ]
    }
   ],
   "source": [
    "import torch\n",
    "import torch.nn as nn\n",
    "import torch.nn.functional as F"
   ]
  },
  {
   "cell_type": "code",
   "execution_count": 42,
   "metadata": {},
   "outputs": [
    {
     "name": "stdout",
     "output_type": "stream",
     "text": [
      "tensor([[[0.0000, 0.0000, 0.1365, 0.5118, 2.4686, 0.2536, 1.0666, 0.0000,\n",
      "          0.3846, 1.6764, 0.0000, 2.5750, 0.0000, 0.0000, 1.8758, 1.8343,\n",
      "          1.2493, 1.6716, 0.0000, 3.0473, 1.1700, 0.0255, 0.0000, 0.0000,\n",
      "          0.0000, 0.1078, 0.2184, 1.2954, 0.2062, 0.4625, 0.0000, 0.0000],\n",
      "         [0.0000, 0.0000, 0.3089, 0.7942, 2.8864, 0.0939, 1.4310, 0.0741,\n",
      "          0.3647, 2.3025, 0.0000, 3.7006, 0.0000, 0.1921, 2.6688, 2.7523,\n",
      "          1.6368, 2.6176, 0.0000, 4.0936, 1.3502, 0.1449, 0.0000, 0.0000,\n",
      "          0.0000, 0.2130, 0.0849, 2.0185, 0.4267, 0.6500, 0.0000, 0.0000],\n",
      "         [0.0000, 0.0000, 0.4561, 0.6833, 2.8092, 0.3676, 1.2894, 0.1050,\n",
      "          0.6789, 1.9908, 0.1805, 3.1911, 0.0000, 0.0980, 2.3501, 2.3425,\n",
      "          1.4707, 2.1538, 0.0000, 3.7114, 1.3503, 0.3169, 0.0000, 0.0000,\n",
      "          0.0000, 0.2896, 0.2462, 1.7542, 0.4303, 0.5502, 0.1252, 0.0443],\n",
      "         [0.0000, 0.0000, 0.3802, 1.1850, 3.4884, 0.0000, 1.8647, 0.2946,\n",
      "          0.2998, 2.9149, 0.0000, 4.7843, 0.0000, 0.5649, 3.5529, 3.6473,\n",
      "          2.1363, 3.4831, 0.0000, 5.5065, 1.7341, 0.1278, 0.0000, 0.0000,\n",
      "          0.0000, 0.3002, 0.0000, 2.8889, 0.8070, 0.8757, 0.0000, 0.0000],\n",
      "         [0.0000, 0.0000, 0.7110, 0.8904, 3.0977, 0.4431, 1.5215, 0.2181,\n",
      "          0.9861, 2.3097, 0.4482, 3.7513, 0.0000, 0.1870, 2.8210, 2.7910,\n",
      "          1.6832, 2.6393, 0.0000, 4.3591, 1.4639, 0.5951, 0.0000, 0.0000,\n",
      "          0.0000, 0.4245, 0.2806, 2.1197, 0.6362, 0.6492, 0.2729, 0.1542]]],\n",
      "       grad_fn=<DivBackward0>)\n",
      "torch.Size([1, 4, 32]) torch.Size([1, 5, 32])\n",
      "torch.Size([1, 9, 32])\n"
     ]
    }
   ],
   "source": [
    "\n",
    "class CircuitTrainingModel(nn.Module):\n",
    "    EPSILON = 1e-6\n",
    "\n",
    "    def __init__(\n",
    "            self, \n",
    "            num_gcn_layers=3, \n",
    "            edge_fc_layers=1,\n",
    "            macro_features_dim=4, \n",
    "            gcn_node_dim=32, \n",
    "            max_macro_num=80,\n",
    "            include_min_max_var=True, \n",
    "            is_augmented=False):\n",
    "        \n",
    "        super(CircuitTrainingModel, self).__init__()\n",
    "        self.num_gcn_layers = num_gcn_layers\n",
    "        self.gcn_node_dim = gcn_node_dim\n",
    "        self.include_min_max_var = include_min_max_var\n",
    "        self.is_augmented = is_augmented\n",
    "        self.max_macro_num = max_macro_num\n",
    "        self.macro_features_dim = macro_features_dim\n",
    "\n",
    "        self.metadata_encoder = nn.Sequential(\n",
    "            nn.Linear(self.gcn_node_dim, self.gcn_node_dim),\n",
    "            nn.ReLU()\n",
    "        )\n",
    "\n",
    "        self.feature_encoder = nn.Sequential(\n",
    "            nn.Linear(self.macro_features_dim, self.gcn_node_dim),\n",
    "            nn.ReLU()\n",
    "        )\n",
    "\n",
    "        self.edge_fc_list = nn.ModuleList([\n",
    "            self.create_edge_fc(edge_fc_layers) for _ in range(num_gcn_layers)\n",
    "        ])\n",
    "\n",
    "        self.attention_layer = nn.MultiheadAttention(embed_dim=self.gcn_node_dim, num_heads=1)\n",
    "        self.attention_query_layer = nn.Linear(self.gcn_node_dim, self.gcn_node_dim)\n",
    "        self.attention_key_layer = nn.Linear(self.gcn_node_dim, self.gcn_node_dim)\n",
    "        self.attention_value_layer = nn.Linear(self.gcn_node_dim, self.gcn_node_dim)\n",
    "\n",
    "        self.value_head = nn.Sequential(\n",
    "            nn.Linear(self.gcn_node_dim, 32),\n",
    "            nn.ReLU(),\n",
    "            nn.Linear(32, 8),\n",
    "            nn.ReLU(),\n",
    "            nn.Linear(8, 1)\n",
    "        )\n",
    "\n",
    "        if self.is_augmented:\n",
    "            self.augmented_embedding_layer = nn.Linear(self.gcn_node_dim, self.gcn_node_dim)\n",
    "\n",
    "    def create_edge_fc(self, edge_fc_layers):\n",
    "        layers = []\n",
    "        layers.append(nn.Linear(2*self.gcn_node_dim+1, self.gcn_node_dim))\n",
    "        layers.append(nn.ReLU())\n",
    "        for _ in range(edge_fc_layers-1):\n",
    "            layers.append(nn.Linear(self.gcn_node_dim, self.gcn_node_dim))\n",
    "            layers.append(nn.ReLU())\n",
    "        return nn.Sequential(*layers)\n",
    "\n",
    "    # def gather_to_edges(self, h_nodes, sparse_adj_i, sparse_adj_j, sparse_adj_weight):\n",
    "    #     print(h_nodes.size(), sparse_adj_i.size(), sparse_adj_j.size(), sparse_adj_weight.size())\n",
    "    #     h_edges_1 = h_nodes[sparse_adj_i].squeeze(0)\n",
    "    #     h_edges_2 = h_nodes[sparse_adj_j].squeeze(0)\n",
    "    #     sparse_adj_weight = sparse_adj_weight.unsqueeze(-1).squeeze(0)\n",
    "    #     print(h_edges_1.size(), h_edges_2.size(), sparse_adj_weight.unsqueeze(0).size())\n",
    "    #     h_edges_12 = torch.cat([h_edges_1, h_edges_2, sparse_adj_weight.unsqueeze(0)], dim=-1)\n",
    "    #     h_edges_21 = torch.cat([h_edges_2, h_edges_1, sparse_adj_weight.unsqueeze(0)], dim=-1)\n",
    "    #     mask = sparse_adj_weight != 0.0\n",
    "    #     h_edges_i_j = torch.where(mask, h_edges_12, torch.zeros_like(h_edges_12))\n",
    "    #     h_edges_j_i = torch.where(mask, h_edges_21, torch.zeros_like(h_edges_21))\n",
    "    #     return h_edges_i_j, h_edges_j_i\n",
    "\n",
    "    def gather_to_edges(self, h_nodes, sparse_adj_i, sparse_adj_j, sparse_adj_weight):\n",
    "    # Print the sizes of the inputs for debugging\n",
    "        # print(h_nodes.size(), sparse_adj_i.size(), sparse_adj_j.size(), sparse_adj_weight.size())\n",
    "\n",
    "        # Gather node features for the edges\n",
    "        h_edges_1 = h_nodes.gather(1, sparse_adj_i.unsqueeze(-1).expand(-1, -1, h_nodes.size(-1)))\n",
    "        h_edges_2 = h_nodes.gather(1, sparse_adj_j.unsqueeze(-1).expand(-1, -1, h_nodes.size(-1)))\n",
    "\n",
    "        # Adjust the sparse adjacency weights\n",
    "        sparse_adj_weight = sparse_adj_weight.unsqueeze(-1)\n",
    "\n",
    "        # Print the sizes of the gathered edges and adjusted weights for debugging\n",
    "        # print(h_edges_1.size(), h_edges_2.size(), sparse_adj_weight.size())\n",
    "\n",
    "        # Concatenate the gathered node features and weights\n",
    "        h_edges_12 = torch.cat([h_edges_1, h_edges_2, sparse_adj_weight], dim=-1)\n",
    "        h_edges_21 = torch.cat([h_edges_2, h_edges_1, sparse_adj_weight], dim=-1)\n",
    "\n",
    "        # Create a mask for non-zero weights\n",
    "        mask = sparse_adj_weight.squeeze(-1) != 0.0\n",
    "\n",
    "        # Apply the mask to the concatenated edges\n",
    "        h_edges_i_j = torch.where(mask.unsqueeze(-1), h_edges_12, torch.zeros_like(h_edges_12))\n",
    "        h_edges_j_i = torch.where(mask.unsqueeze(-1), h_edges_21, torch.zeros_like(h_edges_21))\n",
    "\n",
    "        return h_edges_i_j, h_edges_j_i\n",
    "\n",
    "    # def _scatter_count(self, edge_h, indices, num_nodes):\n",
    "    #     h_node = torch.zeros(edge_h.size(0), num_nodes, edge_h.size(-1)).to(edge_h.device)\n",
    "    #     count_edge = torch.zeros_like(h_node)\n",
    "    #     count = torch.ones_like(edge_h)\n",
    "\n",
    "    #     idx = indices.unsqueeze(-1).expand_as(edge_h)\n",
    "    #     h_node.scatter_add_(1, idx, edge_h)\n",
    "    #     count_edge.scatter_add_(1, idx, count)\n",
    "\n",
    "    #     return h_node, count_edge\n",
    "\n",
    "    # def scatter_to_nodes(self, h_edges, sparse_adj_i, sparse_adj_j, num_nodes):\n",
    "    #     print(\"scatter \", h_edges.size(), sparse_adj_i.size(), sparse_adj_j.size(), num_nodes)\n",
    "    #     h_nodes_1, count_1 = self._scatter_count(h_edges, sparse_adj_i, num_nodes)\n",
    "    #     h_nodes_2, count_2 = self._scatter_count(h_edges, sparse_adj_j, num_nodes)\n",
    "    #     return (h_nodes_1 + h_nodes_2) / (count_1 + count_2 + self.EPSILON)\n",
    "\n",
    "    def scatter_to_nodes(self, h_edges, sparse_adj_i, sparse_adj_j, num_nodes):\n",
    "        batch_size, num_edges, feature_dim = h_edges.size()\n",
    "        max_num_nodes = self.max_macro_num  \n",
    "        \n",
    "        h_nodes_1 = torch.zeros(batch_size, max_num_nodes, feature_dim, device=h_edges.device)\n",
    "        count_1 = torch.zeros(batch_size, max_num_nodes, device=h_edges.device)\n",
    "        \n",
    "        h_nodes_2 = torch.zeros(batch_size, max_num_nodes, feature_dim, device=h_edges.device)\n",
    "        count_2 = torch.zeros(batch_size, max_num_nodes, device=h_edges.device)\n",
    "\n",
    "        for b in range(batch_size):\n",
    "            h_nodes_1[b].index_add_(0, sparse_adj_i[b], h_edges[b])\n",
    "            count_1[b].index_add_(0, sparse_adj_i[b], torch.ones_like(sparse_adj_i[b], dtype=torch.float, device=h_edges.device))\n",
    "\n",
    "        for b in range(batch_size):\n",
    "            h_nodes_2[b].index_add_(0, sparse_adj_j[b], h_edges[b])\n",
    "            count_2[b].index_add_(0, sparse_adj_j[b], torch.ones_like(sparse_adj_j[b], dtype=torch.float, device=h_edges.device))\n",
    "\n",
    "        h_nodes = (h_nodes_1 + h_nodes_2) / (count_1.unsqueeze(-1) + count_2.unsqueeze(-1) + self.EPSILON)\n",
    "\n",
    "        return h_nodes\n",
    "\n",
    "\n",
    "    def forward(self, inputs):\n",
    "        # Assuming inputs contain the necessary tensors\n",
    "        # Replace the actual data with your tensor data\n",
    "\n",
    "        # Example placeholders:\n",
    "        sparse_adj_i = inputs['sparse_adj_i']\n",
    "        sparse_adj_j = inputs['sparse_adj_j']\n",
    "        sparse_adj_weight = inputs['sparse_adj_weight']\n",
    "        node_features = inputs['node_features']\n",
    "\n",
    "        # h_metadata = self.metadata_encoder(netlist_metadata)\n",
    "        h_nodes = self.feature_encoder(node_features)\n",
    "        for i in range(self.num_gcn_layers):\n",
    "            # print(h_nodes.shape)\n",
    "            h_edges_i_j, h_edges_j_i = self.gather_to_edges(h_nodes, sparse_adj_i, sparse_adj_j, sparse_adj_weight)\n",
    "            # print(h_edges_i_j.shape, h_edges_j_i.shape)\n",
    "            h_edges = (self.edge_fc_list[i](h_edges_i_j) + self.edge_fc_list[i](h_edges_j_i)) / 2.0\n",
    "            h_nodes_new = self.scatter_to_nodes(h_edges, sparse_adj_i, sparse_adj_j, inputs['num_nodes'])\n",
    "            h_nodes = h_nodes_new + h_nodes\n",
    "            # print(h_nodes.shape, h_nodes_new.shape)\n",
    "\n",
    "        return h_nodes, h_edges\n",
    "\n",
    "# Example usage\n",
    "model = CircuitTrainingModel(max_macro_num=4, macro_features_dim=2)\n",
    "inputs = {\n",
    "    'sparse_adj_i': torch.tensor([[0, 1, 2, 2, 3]]),\n",
    "    'sparse_adj_j': torch.tensor([[1, 2, 0, 3, 0]]),\n",
    "    'sparse_adj_weight': torch.rand(1, 5),\n",
    "    'node_features': torch.tensor([[[1.0, 2.0], [3.0, 4.0], [5.0, 6.0], [7.0, 8.0]]]),\n",
    "    'num_nodes': torch.tensor(4)\n",
    "}\n",
    "output = model(inputs)\n",
    "print(output[1])\n",
    "print(output[0].shape, output[1].shape)\n",
    "print(torch.concat([output[0], output[1]], dim=1).shape)"
   ]
  },
  {
   "cell_type": "code",
   "execution_count": 43,
   "metadata": {},
   "outputs": [],
   "source": [
    "import pandas as pd\n",
    "\n",
    "df = pd.read_csv('../src/dataset1.csv')"
   ]
  },
  {
   "cell_type": "code",
   "execution_count": 44,
   "metadata": {},
   "outputs": [],
   "source": [
    "# evaluate each entry in the df to python object\n",
    "df['Macros_eval'] = df['Macros'].apply(lambda x: eval(x))\n",
    "df['Netlist_eval'] = df['Netlist'].apply(lambda x: eval(x))\n",
    "df['HPWL_eval'] = df['HPWL'].apply(lambda x: eval(x))"
   ]
  },
  {
   "cell_type": "code",
   "execution_count": 45,
   "metadata": {},
   "outputs": [
    {
     "data": {
      "text/plain": [
       "(                                              Macros  \\\n",
       " 0  [(61, 139, 12.802226016579985, 30.030423572577...   \n",
       " \n",
       "                                              Netlist  \\\n",
       " 0  [(0, 29), (1, 24), (2, 50), (3, 19), (4, 8), (...   \n",
       " \n",
       "                                                 HPWL  \\\n",
       " 0  [1260.339560165839, 1884.3972833414978, 426.28...   \n",
       " \n",
       "                                          Macros_eval  \\\n",
       " 0  [(61, 139, 12.802226016579985, 30.030423572577...   \n",
       " \n",
       "                                         Netlist_eval  \\\n",
       " 0  [(0, 29), (1, 24), (2, 50), (3, 19), (4, 8), (...   \n",
       " \n",
       "                                            HPWL_eval  \n",
       " 0  [1260.339560165839, 1884.3972833414978, 426.28...  ,\n",
       " 295)"
      ]
     },
     "execution_count": 45,
     "metadata": {},
     "output_type": "execute_result"
    }
   ],
   "source": [
    "df.head(1), len(df)"
   ]
  },
  {
   "cell_type": "code",
   "execution_count": 46,
   "metadata": {},
   "outputs": [],
   "source": [
    "df['sparse_adj_i'] = df['Netlist_eval'].apply(lambda x: torch.tensor(x)[:, 0])\n",
    "# pad other entries of this tensor till 80\n",
    "df['sparse_adj_i'] = df['sparse_adj_i'].apply(lambda x: F.pad(x, (0, 80 - len(x))))\n",
    "# df['num_nodes'] = df['Macros_eval'].apply(lambda x: torch.tensor(80))\n",
    "df['num_nodes'] = df['Macros_eval'].apply(lambda x: torch.tensor(len(x)))\n",
    "df['sparse_adj_j'] = df['Netlist_eval'].apply(lambda x: torch.tensor(x)[:, 1])\n",
    "df['sparse_adj_j'] = df['sparse_adj_j'].apply(lambda x: F.pad(x, (0, 80 - len(x))))\n",
    "df['sparse_adj_weight'] = df['HPWL_eval'].apply(lambda x: torch.tensor(x))\n",
    "df['sparse_adj_weight'] = df['sparse_adj_weight'].apply(lambda x: F.pad(x, (0, 80 - len(x))))\n",
    "df['node_features'] = df['Macros_eval'].apply(lambda x : torch.tensor(x))\n",
    "df['node_features'] = df['node_features'].apply(lambda x: F.pad(x, (0, 0, 0, 80 - len(x))))\n",
    "df['total_hpwl'] = df['HPWL_eval'].apply(lambda x: torch.tensor(x).sum())"
   ]
  },
  {
   "cell_type": "code",
   "execution_count": 47,
   "metadata": {},
   "outputs": [
    {
     "data": {
      "text/plain": [
       "0      tensor(60)\n",
       "1      tensor(56)\n",
       "2      tensor(52)\n",
       "3      tensor(38)\n",
       "4      tensor(36)\n",
       "          ...    \n",
       "290    tensor(70)\n",
       "291    tensor(62)\n",
       "292    tensor(48)\n",
       "293    tensor(32)\n",
       "294    tensor(44)\n",
       "Name: num_nodes, Length: 295, dtype: object"
      ]
     },
     "execution_count": 47,
     "metadata": {},
     "output_type": "execute_result"
    }
   ],
   "source": [
    "df['num_nodes']"
   ]
  },
  {
   "cell_type": "code",
   "execution_count": 48,
   "metadata": {},
   "outputs": [],
   "source": [
    "class GraphDatase(torch.utils.data.Dataset):\n",
    "    def __init__(self, df):\n",
    "        self.df = df\n",
    "\n",
    "    def __len__(self):\n",
    "        return len(self.df)\n",
    "    \n",
    "    def __getitem__(self, idx):\n",
    "        # print(idx)\n",
    "        return {\n",
    "            'sparse_adj_i': self.df.iloc[idx]['sparse_adj_i'],\n",
    "            'sparse_adj_j': self.df.iloc[idx]['sparse_adj_j'],\n",
    "            'sparse_adj_weight': self.df.iloc[idx]['sparse_adj_weight'],\n",
    "            'node_features': self.df.iloc[idx]['node_features'],\n",
    "            'num_nodes': self.df.iloc[idx]['num_nodes'],\n",
    "            'total_hpwl': self.df.iloc[idx]['total_hpwl']\n",
    "        }"
   ]
  },
  {
   "cell_type": "code",
   "execution_count": 61,
   "metadata": {},
   "outputs": [],
   "source": [
    "class GCN(nn.Module):\n",
    "    def __init__(self, GCN_model, gcn_node_dim=2):\n",
    "        super(GCN, self).__init__()\n",
    "        self.gcn_model = GCN_model\n",
    "        self.linear1 = nn.Linear(self.gcn_model.gcn_node_dim, self.gcn_model.gcn_node_dim // 2)\n",
    "        self.linear2 = nn.Linear(self.gcn_model.gcn_node_dim // 2, self.gcn_model.gcn_node_dim // 4)\n",
    "        self.linear3 = nn.Linear(self.gcn_model.gcn_node_dim // 4, 1)\n",
    "\n",
    "\n",
    "    def forward(self, x):\n",
    "        h_nodes, h_edges = self.gcn_model(x)\n",
    "        # concat\n",
    "        # x = torch.cat([h_nodes, h_edges], dim=-2)\n",
    "        x = self.linear1(h_nodes)\n",
    "        x = nn.ReLU()(x)\n",
    "        x = nn.ReLU()(self.linear2(x))\n",
    "        x = self.linear3(x)\n",
    "        return x"
   ]
  },
  {
   "cell_type": "code",
   "execution_count": 64,
   "metadata": {},
   "outputs": [
    {
     "name": "stdout",
     "output_type": "stream",
     "text": [
      "Epoch 1000/1000, Loss: 7382821184.0\r"
     ]
    },
    {
     "data": {
      "image/png": "[encoded data removed]",
      "text/plain": [
       "<Figure size 1000x500 with 1 Axes>"
      ]
     },
     "metadata": {},
     "output_type": "display_data"
    }
   ],
   "source": [
    "import matplotlib.pyplot as plt\n",
    "from IPython.display import clear_output\n",
    "\n",
    "gcn_model = CircuitTrainingModel(num_gcn_layers=4, gcn_node_dim=4)\n",
    "model = GCN(gcn_model)\n",
    "dataset = GraphDatase(df)\n",
    "dataloader = torch.utils.data.DataLoader(dataset, batch_size=32, shuffle=True)\n",
    "criterion = nn.MSELoss()\n",
    "optimizer = torch.optim.Adam(model.parameters(), lr=0.0003) \n",
    "\n",
    "epochs = []\n",
    "losses = []\n",
    "\n",
    "num_epochs = 1000\n",
    "for epoch in range(num_epochs):\n",
    "    model.train()\n",
    "    total_loss = 0\n",
    "    for batch in dataloader:\n",
    "        optimizer.zero_grad()\n",
    "        output = model(batch)\n",
    "        loss = criterion(output, batch['total_hpwl'])\n",
    "        loss.backward()\n",
    "        total_loss += loss.item()\n",
    "        optimizer.step()\n",
    "\n",
    "    epochs.append(epoch + 1)\n",
    "    losses.append(total_loss)\n",
    "    clear_output(wait=True)\n",
    "    print(f'Epoch {epoch+1}/{num_epochs}, Loss: {total_loss}\\r', end='')\n",
    "    plt.figure(figsize=(10, 5))\n",
    "    plt.plot(epochs, losses, label='Loss')\n",
    "    plt.xlabel('Epoch')\n",
    "    plt.ylabel('Loss')\n",
    "    plt.title('Loss vs. Epoch')\n",
    "    plt.legend()\n",
    "    plt.grid(True)\n",
    "    plt.show()\n",
    "    "
   ]
  },
  {
   "cell_type": "code",
   "execution_count": 19,
   "metadata": {},
   "outputs": [],
   "source": [
    "torch.save(gcn_model.state_dict(), './save_models/gcn_pretrained.pth')\n",
    "torch.save(gcn_model, './save_models/gcn_pretrained_model.pth')"
   ]
  },
  {
   "cell_type": "code",
   "execution_count": 17,
   "metadata": {},
   "outputs": [
    {
     "data": {
      "text/plain": [
       "<All keys matched successfully>"
      ]
     },
     "execution_count": 17,
     "metadata": {},
     "output_type": "execute_result"
    }
   ],
   "source": [
    "mod = CircuitTrainingModel(gcn_node_dim=4)\n",
    "mod.load_state_dict(torch.load('./save_models/gcn_pretrained.pth'))"
   ]
  },
  {
   "cell_type": "code",
   "execution_count": 20,
   "metadata": {},
   "outputs": [],
   "source": [
    "mod = torch.load('./save_models/gcn_pretrained_model.pth')"
   ]
  }
 ],
 "metadata": {
  "kernelspec": {
   "display_name": "maskplace_gnn",
   "language": "python",
   "name": "python3"
  },
  "language_info": {
   "codemirror_mode": {
    "name": "ipython",
    "version": 3
   },
   "file_extension": ".py",
   "mimetype": "text/x-python",
   "name": "python",
   "nbconvert_exporter": "python",
   "pygments_lexer": "ipython3",
   "version": "3.9.19"
  }
 },
 "nbformat": 4,
 "nbformat_minor": 2
}
