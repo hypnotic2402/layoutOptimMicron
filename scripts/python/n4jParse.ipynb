{
 "cells": [
  {
   "cell_type": "code",
   "execution_count": null,
   "metadata": {},
   "outputs": [],
   "source": []
  },
  {
   "cell_type": "code",
   "execution_count": 63,
   "metadata": {},
   "outputs": [
    {
     "name": "stdout",
     "output_type": "stream",
     "text": [
      "<class 'neo4j._data.Record'>\n",
      "Macro 0\n",
      "<Record n=<Node element_id='4:18466068-8632-48cd-a6ca-994b335b4d18:6' labels=frozenset({'Macro'}) properties={'w': 100, 'name': 'X10', 'x': 200, 'h': 50, 'y': 22360}>>\n",
      "Macro 1\n",
      "<Record n=<Node element_id='4:18466068-8632-48cd-a6ca-994b335b4d18:7' labels=frozenset({'Macro'}) properties={'w': 110, 'name': 'X11', 'x': 200, 'h': 40, 'y': 22360}>>\n",
      "Macro 2\n",
      "<Record n=<Node element_id='4:18466068-8632-48cd-a6ca-994b335b4d18:8' labels=frozenset({'Macro'}) properties={'w': 60, 'name': 'X12', 'x': 200, 'h': 60, 'y': 22360}>>\n"
     ]
    }
   ],
   "source": [
    "from neo4j import GraphDatabase\n",
    "\n",
    "URI = \"neo4j://localhost\"\n",
    "AUTH = (\"neo4j\", \"12345678\")\n",
    "\n",
    "mcs = []\n",
    "\n",
    "with GraphDatabase.driver(URI, auth=AUTH) as driver:\n",
    "    driver.verify_connectivity()\n",
    "\n",
    "    macros,summ , keys = driver.execute_query(\"Match (n) Return n\")\n",
    "    if len(macros) > 0:\n",
    "        print(type(macros[0]))\n",
    "    else:\n",
    "        print(\"DB Empty\")\n",
    "    i = 0\n",
    "    for macro in macros:\n",
    "        mcs.append(macro)\n",
    "        print(\"Macro \" + str(i))\n",
    "        print(macro)\n",
    "        i+=1\n"
   ]
  },
  {
   "cell_type": "code",
   "execution_count": 83,
   "metadata": {},
   "outputs": [
    {
     "name": "stdout",
     "output_type": "stream",
     "text": [
      "<class 'neo4j._data.Record'>\n",
      "Macro 0\n",
      "<Record n=<Node element_id='4:18466068-8632-48cd-a6ca-994b335b4d18:6' labels=frozenset({'Macro'}) properties={'w': 100, 'name': 'X10', 'x': 200, 'h': 50, 'y': 22360}>>\n",
      "Macro 1\n",
      "<Record n=<Node element_id='4:18466068-8632-48cd-a6ca-994b335b4d18:7' labels=frozenset({'Macro'}) properties={'w': 110, 'name': 'X11', 'x': 200, 'h': 40, 'y': 22360}>>\n",
      "Macro 2\n",
      "<Record n=<Node element_id='4:18466068-8632-48cd-a6ca-994b335b4d18:8' labels=frozenset({'Macro'}) properties={'w': 60, 'name': 'X12', 'x': 200, 'h': 60, 'y': 22360}>>\n"
     ]
    },
    {
     "data": {
      "text/plain": [
       "(3, [100, 50, 110, 40, 60, 60], [[0, 1], [1, 2]])"
      ]
     },
     "execution_count": 83,
     "metadata": {},
     "output_type": "execute_result"
    }
   ],
   "source": [
    "def extract():\n",
    "    URI = \"neo4j://localhost\"\n",
    "    AUTH = (\"neo4j\", \"12345678\")\n",
    "\n",
    "    mcs = []\n",
    "\n",
    "    with GraphDatabase.driver(URI, auth=AUTH) as driver:\n",
    "        driver.verify_connectivity()\n",
    "\n",
    "        macros,summ , keys = driver.execute_query(\"Match (n) Return n\")\n",
    "        e,s,k = driver.execute_query(\"Match ()-[r]->() Return r\")\n",
    "        if len(macros) > 0:\n",
    "            print(type(macros[0]))\n",
    "        else:\n",
    "            print(\"DB Empty\")\n",
    "        i = 0\n",
    "        for macro in macros:\n",
    "            mcs.append(macro)\n",
    "            print(\"Macro \" + str(i))\n",
    "            print(macro)\n",
    "            i+=1\n",
    "\n",
    "    \n",
    "    nMacros = len(mcs)\n",
    "    nodes = [m[0] for m in mcs]\n",
    "    macIds = [m[0].element_id for m in mcs]\n",
    "    wh = []\n",
    "    for m in mcs:\n",
    "        wh.append(m[0].get('w'))\n",
    "        wh.append(m[0].get('h'))\n",
    "\n",
    "    # print(e[0][0].nodes)\n",
    "    edges = [ed[0].nodes for ed in e]\n",
    "    nl = []\n",
    "\n",
    "    for ed in edges:\n",
    "        nl.append([macIds.index(ed[0].element_id) , macIds.index(ed[1].element_id)])\n",
    "        # print(ed[1])\n",
    "\n",
    "\n",
    "    # print(nl)\n",
    "\n",
    "    return nMacros , wh , nl\n",
    "\n",
    "    \n",
    "\n",
    "    # print(macIds)\n",
    "\n",
    "    # for \n",
    "\n",
    "\n",
    "extract()"
   ]
  },
  {
   "cell_type": "code",
   "execution_count": 65,
   "metadata": {},
   "outputs": [
    {
     "data": {
      "text/plain": [
       "<Node element_id='4:18466068-8632-48cd-a6ca-994b335b4d18:6' labels=frozenset({'Macro'}) properties={'w': 100, 'name': 'X10', 'x': 200, 'h': 50, 'y': 22360}>"
      ]
     },
     "execution_count": 65,
     "metadata": {},
     "output_type": "execute_result"
    }
   ],
   "source": [
    "mcs[0][0]\n",
    "# print(x)"
   ]
  }
 ],
 "metadata": {
  "kernelspec": {
   "display_name": "Python 3",
   "language": "python",
   "name": "python3"
  },
  "language_info": {
   "codemirror_mode": {
    "name": "ipython",
    "version": 3
   },
   "file_extension": ".py",
   "mimetype": "text/x-python",
   "name": "python",
   "nbconvert_exporter": "python",
   "pygments_lexer": "ipython3",
   "version": "3.8.10"
  }
 },
 "nbformat": 4,
 "nbformat_minor": 2
}
