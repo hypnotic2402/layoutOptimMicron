{
 "cells": [
  {
   "cell_type": "code",
   "execution_count": 1,
   "metadata": {},
   "outputs": [],
   "source": [
    "import numpy as np\n",
    "import random\n",
    "import math"
   ]
  },
  {
   "cell_type": "code",
   "execution_count": 2,
   "metadata": {},
   "outputs": [],
   "source": [
    "class Individual:\n",
    "    def __init__(self , xu , xl , yu , yl):\n",
    "        self.x = random.uniform(xl, xu)\n",
    "        self.y = random.uniform(yl, yu)\n",
    "        "
   ]
  },
  {
   "cell_type": "code",
   "execution_count": 3,
   "metadata": {},
   "outputs": [],
   "source": [
    "class GA: \n",
    "    def __init__(self , pop_size , mutation_factor, crossover_factor , objF , x_len , xl, xu , nets , wh):\n",
    "        self.pop_size = pop_size\n",
    "        self.mutation_factor = mutation_factor\n",
    "        self.crossover_factor = crossover_factor\n",
    "        self.pop = []\n",
    "        self.objF = objF\n",
    "        self.x_len = x_len\n",
    "        self.xl = xl\n",
    "        self.xu = xu\n",
    "        self.ranked_pop = []\n",
    "        self.best_pop = []\n",
    "        self.wh = wh\n",
    "        self.nets = nets\n",
    "        \n",
    "\n",
    "        for p in range(self.pop_size):\n",
    "            px = []\n",
    "            for x in range(self.x_len):\n",
    "                px.append(random.uniform(self.xl,self.xu))\n",
    "            # px = np.array(px)\n",
    "            self.pop.append(px)\n",
    "\n",
    "        for p in self.pop:\n",
    "            self.ranked_pop.append((objF(p , self.wh , self.nets) , p))\n",
    "        self.ranked_pop.sort()\n",
    "        self.ranked_pop.reverse()\n",
    "\n",
    "        self.best_pop = self.ranked_pop[:int(round(self.pop_size * self.crossover_factor))]\n",
    "\n",
    "    def mutate(self , gene):\n",
    "        return gene + random.uniform(1-self.mutation_factor , 1+ self.mutation_factor)\n",
    "\n",
    "    def opt(self , n_iter):\n",
    "        for i in range(n_iter):\n",
    "            print(\"Iteration \" + str(i) + \" ----> \" + str(self.ranked_pop[0]))\n",
    "            # elem = np.array(self.best_pop).T\n",
    "            # print(elem.shape)\n",
    "            new_pop = []\n",
    "            elems = []\n",
    "            for e in range(self.x_len):\n",
    "                elem = []\n",
    "                for j in self.best_pop:\n",
    "                    elem.append(j[1][e])\n",
    "                # print(len(elem))\n",
    "                elems.append(elem)\n",
    "\n",
    "            for p in range(self.pop_size):\n",
    "                x = []\n",
    "                for e in range(self.x_len):\n",
    "                    # print(len(elems[e]))\n",
    "                    gene = random.choice(elems[e])\n",
    "                    gene = gene * random.uniform(1-self.mutation_factor , 1+ self.mutation_factor)\n",
    "                    x.append(gene)\n",
    "                new_pop.append(x)\n",
    "\n",
    "            self.pop = new_pop\n",
    "            self.ranked_pop = []\n",
    "\n",
    "            for p in self.pop:\n",
    "                self.ranked_pop.append((self.objF(p , self.wh , self.nets) , p))\n",
    "            self.ranked_pop.sort()\n",
    "            self.ranked_pop.reverse()\n",
    "\n",
    "            self.best_pop = self.ranked_pop[:int(round(self.pop_size * self.crossover_factor))]\n",
    "\n",
    "        \n",
    "\n",
    "\n",
    "        \n",
    "\n",
    "\n"
   ]
  },
  {
   "cell_type": "code",
   "execution_count": 4,
   "metadata": {},
   "outputs": [],
   "source": [
    "wh = [100 , 50 , 110 , 40 , 60 , 60]\n",
    "nets = [[0,1],[1,2]]"
   ]
  },
  {
   "cell_type": "code",
   "execution_count": 5,
   "metadata": {},
   "outputs": [],
   "source": [
    "#pop : x1,y1,x2,y2,..."
   ]
  },
  {
   "cell_type": "code",
   "execution_count": 6,
   "metadata": {},
   "outputs": [],
   "source": [
    "def hpwl(X , wh , nets):\n",
    "    s = 0\n",
    "    for net in nets:\n",
    "        xmin = math.inf\n",
    "        xmax = -math.inf\n",
    "        ymin = math.inf\n",
    "        ymax = -math.inf\n",
    "        for macroIdx in net:\n",
    "            x = X[2*macroIdx]\n",
    "            y = X[2*macroIdx+1]\n",
    "            if (x > xmax):\n",
    "                xmax = x\n",
    "            if (x < xmin):\n",
    "                xmin = x\n",
    "            if (y > ymax):\n",
    "                ymax = y\n",
    "            if (y < ymin):\n",
    "                ymin = y\n",
    "        s += xmax - xmin + ymax - ymin\n",
    "\n",
    "    return s\n",
    "        \n",
    "# https://ieeexplore.ieee.org/document/7033338\n",
    "\n"
   ]
  },
  {
   "cell_type": "code",
   "execution_count": 7,
   "metadata": {},
   "outputs": [],
   "source": [
    "def isOverlapping(X , wh):\n",
    "    for i in range(int(len(X) / 2)):\n",
    "        xi_min = X[2*i]\n",
    "        yi_min = X[2*i + 1]\n",
    "        xi_max = xi_min + wh[2*i]\n",
    "        yi_max = yi_min + wh[2*i + 1]\n",
    "        for j in range(int(len(X) /2)):\n",
    "            if (i != j):\n",
    "                xj_min = X[2*j]\n",
    "                yj_min = X[2*j + 1]\n",
    "                xj_max = xj_min + wh[2*j]\n",
    "                yj_max = yj_min + wh[2*j + 1]\n",
    "            \n",
    "                dx = min(xi_max , xj_max) - max(xi_min , xj_min)\n",
    "                dy = min(yi_max , yj_max) - max(yi_min , yj_min)\n",
    "\n",
    "                if (dx >= 0) and (dy >= 0):\n",
    "                    return dx*dy\n",
    "    \n",
    "    return 0\n"
   ]
  },
  {
   "cell_type": "code",
   "execution_count": 8,
   "metadata": {},
   "outputs": [],
   "source": [
    "def objF(X , wh , nets):\n",
    "    return (- hpwl(X , wh , nets) - 1000*isOverlapping(X , wh))\n",
    "    \n"
   ]
  },
  {
   "cell_type": "code",
   "execution_count": 20,
   "metadata": {},
   "outputs": [],
   "source": [
    "ga = GA(1000 , 0.25 , 0.25, objF , 6 , 800 , 800 , nets , wh)"
   ]
  },
  {
   "cell_type": "code",
   "execution_count": null,
   "metadata": {},
   "outputs": [],
   "source": [
    "ga.opt(2000)"
   ]
  }
 ],
 "metadata": {
  "kernelspec": {
   "display_name": "Python 3",
   "language": "python",
   "name": "python3"
  },
  "language_info": {
   "codemirror_mode": {
    "name": "ipython",
    "version": 3
   },
   "file_extension": ".py",
   "mimetype": "text/x-python",
   "name": "python",
   "nbconvert_exporter": "python",
   "pygments_lexer": "ipython3",
   "version": "3.8.10"
  }
 },
 "nbformat": 4,
 "nbformat_minor": 2
}
