{
 "cells": [
  {
   "cell_type": "code",
   "execution_count": null,
   "metadata": {},
   "outputs": [],
   "source": [
    "class MARLEnv():\n",
    "    def __init__(\n",
    "            self, \n",
    "            grid_size : Tuple(int, int),\n",
    "            layers : int, \n",
    "            macros, \n",
    "            netlist, \n",
    "            linkcapacities,\n",
    "        ):\n",
    "        self.grid_size = grid_size\n",
    "        self.layers = layers\n",
    "        self.macros = macros\n",
    "        self.netlist = netlist\n",
    "        self.linkcapacities = linkcapacities\n",
    "        \n",
    "        self.placement_observation = # view mask, wire mask, position mask\n",
    "        self.router_grid = # 3d grid\n",
    "        self.router_observation = # 15 state arrary\n",
    "        self.reset()\n",
    "\n",
    "    def reset(self):\n",
    "        pos_mask = get_pos_mask(self.macros)\n",
    "        wire_mask = get_wire_mask(self.netlist)\n",
    "        view_mask = get_view_mask(self.macros)\n",
    "\n",
    "        self.placement_observation = np.concatenate([pos_mask, wire_mask, view_mask], axis=2) # change this to linear array\n",
    "\n",
    "\n",
    "        self.router_observation = np.zeros((self.grid_size[0], self.grid_size[1], self.layers))\n",
    "        \n",
    "        return self.placement_observation, self.router_observation\n",
    "\n",
    "\n",
    "    def placement_step(\n",
    "            self, \n",
    "            action # int,\n",
    "        ):\n",
    "\n",
    "        view_mask = self.placement_observation[]\n",
    "        wire_mask = self.placement_observation[]\n",
    "        pos_mask = self.placement_observation[]\n",
    "\n",
    "        x = round(action / self.grid_size[0])\n",
    "        y = round(action % self.grid_size[0])\n",
    "\n",
    "        view_mask[x : x+size_x, y : y+size_y] = 1.0\n",
    "        view_mask[x : x + size_x, y] = 0.5\n",
    "\n",
    "        wire_mask = self.get_wire_mask(self.netlist, view_mask)\n",
    "        pos_mask = self.get_pos_mask(self.macros, view_mask)\n",
    "\n",
    "        self.placement_observation = np.concatenate([pos_mask, wire_mask, view_mask], axis=2) # change this to linear array\n",
    "\n",
    "        return self.placement_observation\n",
    "        \n",
    "\n",
    "    def router_step(\n",
    "            self, \n",
    "            actions\n",
    "        ):\n",
    "\n",
    "        # the action here gives one of the size possible directions to move for an RL agent\n",
    "        # the observation here has the current x y z of agent, target xyz, starting xyz and link capacities\n",
    "        self.router_observation = np.concatenate([current, target, start, linkcapacities], axis=2)\n",
    "\n",
    "        return self.router_observation\n",
    "        \n",
    "    "
   ]
  },
  {
   "cell_type": "code",
   "execution_count": 10,
   "metadata": {},
   "outputs": [],
   "source": [
    "def gen_hist(dataset):\n",
    "    ans=[]\n",
    "    for data in dataset:\n",
    "        item = []\n",
    "        sz=len(data)\n",
    "        for i in range(sz):\n",
    "            item.append(data[i:])\n",
    "        ans.append(item)\n",
    "    return ans\n",
    "    "
   ]
  },
  {
   "cell_type": "code",
   "execution_count": 11,
   "metadata": {},
   "outputs": [
    {
     "name": "stdout",
     "output_type": "stream",
     "text": [
      "[[[1, 2, 3], [2, 3], [3]], [[4, 5, 6], [5, 6], [6]], [[7, 8, 9], [8, 9], [9]]]\n"
     ]
    }
   ],
   "source": [
    "dataset = [[1,2,3],[4,5,6],[7,8,9]]\n",
    "print(gen_hist(dataset))"
   ]
  },
  {
   "cell_type": "code",
   "execution_count": null,
   "metadata": {},
   "outputs": [],
   "source": []
  }
 ],
 "metadata": {
  "kernelspec": {
   "display_name": "Python 3",
   "language": "python",
   "name": "python3"
  },
  "language_info": {
   "codemirror_mode": {
    "name": "ipython",
    "version": 3
   },
   "file_extension": ".py",
   "mimetype": "text/x-python",
   "name": "python",
   "nbconvert_exporter": "python",
   "pygments_lexer": "ipython3",
   "version": "3.8.10"
  }
 },
 "nbformat": 4,
 "nbformat_minor": 2
}
